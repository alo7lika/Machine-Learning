{
 "cells": [
  {
   "cell_type": "code",
   "execution_count": 1,
   "id": "ef3e32ec-7628-4689-b74a-837040aa7f2e",
   "metadata": {},
   "outputs": [],
   "source": [
    "import numpy as np"
   ]
  },
  {
   "cell_type": "code",
   "execution_count": 2,
   "id": "1caae7d2-a3fb-41db-8ba6-d5d44b331216",
   "metadata": {},
   "outputs": [],
   "source": [
    "def sigmoid(x):\n",
    "    return 1/(1+np.exp(-x))\n",
    "def sigmoid_derivative(x):\n",
    "    return x*(1-x)"
   ]
  },
  {
   "cell_type": "code",
   "execution_count": 4,
   "id": "d7cd676c-f8d4-4cba-8117-04317995b9f6",
   "metadata": {},
   "outputs": [],
   "source": [
    "x = np.array([[0,0,1],[0,1,0],[1,0,1],[1,1,0]])\n",
    "y = np.array ([[0],[1],[1],[1]])"
   ]
  },
  {
   "cell_type": "code",
   "execution_count": 5,
   "id": "585d2aa8-1e24-4fe5-9df5-a53196eeb08b",
   "metadata": {},
   "outputs": [],
   "source": [
    "np.random.seed(1)"
   ]
  },
  {
   "cell_type": "code",
   "execution_count": 6,
   "id": "656b81a9-ac5d-4976-8b5c-3588cf65534d",
   "metadata": {},
   "outputs": [],
   "source": [
    "weights = 2* np.random.random((3,1))-1"
   ]
  },
  {
   "cell_type": "code",
   "execution_count": 7,
   "id": "197fa36f-9727-4ea3-ba9c-84a38f497831",
   "metadata": {},
   "outputs": [],
   "source": [
    "learning_rate = 0.3"
   ]
  },
  {
   "cell_type": "code",
   "execution_count": 8,
   "id": "be9ff40b-8afb-43b3-9244-c63048b62020",
   "metadata": {},
   "outputs": [],
   "source": [
    "iterations = 10000"
   ]
  },
  {
   "cell_type": "code",
   "execution_count": 12,
   "id": "a9311d52-a981-4d22-b9f8-8a5c0f5ebece",
   "metadata": {},
   "outputs": [],
   "source": [
    "for iteration in range (iterations):\n",
    "    input_layer = x\n",
    "    outputs = sigmoid(np.dot(input_layer,weights))\n",
    "    error = y- outputs\n",
    "    adjustments = error*sigmoid_derivative(outputs)\n",
    "    weights = np.dot(input_layer.T,adjustments)*learning_rate"
   ]
  },
  {
   "cell_type": "code",
   "execution_count": 16,
   "id": "51b0db76-0c2d-4cb6-994a-e1c4080e1187",
   "metadata": {},
   "outputs": [
    {
     "name": "stdout",
     "output_type": "stream",
     "text": [
      "Weights after training:\n",
      "[[ 0.07082827]\n",
      " [ 0.07080239]\n",
      " [-0.00132161]]\n"
     ]
    }
   ],
   "source": [
    "print (\"Weights after training:\")\n",
    "print(weights)"
   ]
  },
  {
   "cell_type": "code",
   "execution_count": 17,
   "id": "2ef2a0cf-7596-46a3-b69a-aec3bd03b3a5",
   "metadata": {},
   "outputs": [
    {
     "name": "stdout",
     "output_type": "stream",
     "text": [
      "output for test input [1,1,1] : \n",
      "[0.53501983]\n"
     ]
    }
   ],
   "source": [
    "test_input = np.array([1,1,1])\n",
    "output = sigmoid (np.dot(test_input,weights))\n",
    "print(\"output for test input [1,1,1] : \")\n",
    "print(output)"
   ]
  },
  {
   "cell_type": "code",
   "execution_count": null,
   "id": "907a3e09-ccb1-4df6-afdb-50ac56716558",
   "metadata": {},
   "outputs": [],
   "source": []
  }
 ],
 "metadata": {
  "kernelspec": {
   "display_name": "Python 3 (ipykernel)",
   "language": "python",
   "name": "python3"
  },
  "language_info": {
   "codemirror_mode": {
    "name": "ipython",
    "version": 3
   },
   "file_extension": ".py",
   "mimetype": "text/x-python",
   "name": "python",
   "nbconvert_exporter": "python",
   "pygments_lexer": "ipython3",
   "version": "3.11.7"
  }
 },
 "nbformat": 4,
 "nbformat_minor": 5
}
