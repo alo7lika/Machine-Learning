{
 "cells": [
  {
   "cell_type": "code",
   "execution_count": 1,
   "id": "c27a4a03-03b9-4b60-8211-b6820c768785",
   "metadata": {},
   "outputs": [],
   "source": [
    "import pandas as pd"
   ]
  },
  {
   "cell_type": "code",
   "execution_count": 12,
   "id": "e6a3829b-da23-4d8b-aecd-8efcb9881929",
   "metadata": {},
   "outputs": [],
   "source": [
    "data = {\n",
    "    'Studied' : [\"No\", \"No\", \"Yes\", \"Yes\", \"Yes\", \"No\", \"Yes\", \"No\", \"No\", \"Yes\"],\n",
    "    'Sick' : [\"No\", \"Yes\", \"Yes\", \"No\", \"Yes\", \"Yes\", \"No\", \"Yes\", \"Yes\", \"Yes\"],\n",
    "    'Result' : [\"fail\", \"pass\",\"fail\",\"pass\",\"pass\",\"fail\",\"fail\",\"pass\",\"pass\",\"fail\"]}"
   ]
  },
  {
   "cell_type": "code",
   "execution_count": 13,
   "id": "1c1d0555-8d23-4d6b-8c8e-7d611be4c321",
   "metadata": {},
   "outputs": [],
   "source": [
    "df = pd.DataFrame(data)"
   ]
  },
  {
   "cell_type": "code",
   "execution_count": 14,
   "id": "cb2bbacd-4802-4677-a411-051c0c8465f4",
   "metadata": {},
   "outputs": [],
   "source": [
    "p_pass = df['Result'].value_counts()['pass']/len(df)\n",
    "p_fail = df['Result'].value_counts()['fail']/len(df)"
   ]
  },
  {
   "cell_type": "code",
   "execution_count": 21,
   "id": "960a3785-c4e8-43ad-98be-857402e02d7e",
   "metadata": {},
   "outputs": [],
   "source": [
    "p_Yes_pass = len(df[(df['Studied'] == 'Yes') & (df['Result'] == 'pass')]) / len(df[df['Result'] == 'pass'])\n",
    "p_Yes_fail = len(df[(df['Studied'] == 'Yes') & (df['Result'] == 'fail')]) / len(df[df['Result'] == 'fail'])\n",
    "p_No_pass = len(df[(df['Sick'] == 'No') & (df['Result'] == 'pass')]) / len(df[df['Result'] == 'pass'])\n",
    "p_No_fail = len(df[(df['Sick'] == 'No') & (df['Result'] == 'fail')]) / len(df[df['Result'] == 'fail'])"
   ]
  },
  {
   "cell_type": "code",
   "execution_count": 22,
   "id": "3bf9643b-ae5d-42ea-8557-050c10be7048",
   "metadata": {},
   "outputs": [],
   "source": [
    "posterior_pass = p_Yes_pass + p_No_pass + p_pass\n",
    "posterior_fail = p_Yes_fail + p_No_fail + p_fail"
   ]
  },
  {
   "cell_type": "code",
   "execution_count": 26,
   "id": "49cc2b24-488f-402d-9a29-6fe7603b4df9",
   "metadata": {},
   "outputs": [],
   "source": [
    "total_posterior = posterior_pass + posterior_fail\n",
    "posterior_pass_normalized = posterior_pass/total_posterior\n",
    "posterior_fail_normalized = posterior_fail/total_posterior"
   ]
  },
  {
   "cell_type": "code",
   "execution_count": 27,
   "id": "b2834f40-cc04-45ca-9dc3-87842686a7c3",
   "metadata": {},
   "outputs": [
    {
     "name": "stdout",
     "output_type": "stream",
     "text": [
      "p(Result = pass/Studied = Yes, Sick = No):0.4230769230769231\n"
     ]
    }
   ],
   "source": [
    "print(f'p(Result = pass/Studied = Yes, Sick = No):{posterior_pass_normalized}')"
   ]
  },
  {
   "cell_type": "code",
   "execution_count": 28,
   "id": "597c1717-2e3b-4f0c-991c-36ff5f9be0b4",
   "metadata": {},
   "outputs": [
    {
     "name": "stdout",
     "output_type": "stream",
     "text": [
      "p(Result = fail/Studied = Yes, Sick = No):0.5769230769230769\n"
     ]
    }
   ],
   "source": [
    "print(f'p(Result = fail/Studied = Yes, Sick = No):{posterior_fail_normalized}')"
   ]
  },
  {
   "cell_type": "code",
   "execution_count": 30,
   "id": "f08b1d57-2d61-4665-90fa-43bf09b56424",
   "metadata": {},
   "outputs": [
    {
     "name": "stdout",
     "output_type": "stream",
     "text": [
      "Prediction : fail, new instance belong to fail\n"
     ]
    }
   ],
   "source": [
    "if posterior_pass_normalized > posterior_fail_normalized:\n",
    "    print('Prediction : pass, new instance belong to pass')\n",
    "else:\n",
    "    print('Prediction : fail, new instance belong to fail')"
   ]
  },
  {
   "cell_type": "code",
   "execution_count": null,
   "id": "a68f8f53-163b-4590-9310-aa4c4d619b5b",
   "metadata": {},
   "outputs": [],
   "source": []
  }
 ],
 "metadata": {
  "kernelspec": {
   "display_name": "Python 3 (ipykernel)",
   "language": "python",
   "name": "python3"
  },
  "language_info": {
   "codemirror_mode": {
    "name": "ipython",
    "version": 3
   },
   "file_extension": ".py",
   "mimetype": "text/x-python",
   "name": "python",
   "nbconvert_exporter": "python",
   "pygments_lexer": "ipython3",
   "version": "3.11.7"
  }
 },
 "nbformat": 4,
 "nbformat_minor": 5
}
