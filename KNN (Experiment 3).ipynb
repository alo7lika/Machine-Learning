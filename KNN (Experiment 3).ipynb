{
 "cells": [
  {
   "cell_type": "code",
   "execution_count": 1,
   "id": "0e9ac20c-4e39-4894-9de1-83d0f87efe1b",
   "metadata": {},
   "outputs": [],
   "source": [
    "import pandas as pd\n",
    "from sklearn.datasets import load_iris\n",
    "from sklearn.model_selection import train_test_split\n",
    "from sklearn.neighbors import KNeighborsClassifier\n",
    "from sklearn.metrics import accuracy_score"
   ]
  },
  {
   "cell_type": "code",
   "execution_count": 2,
   "id": "bca8ebf5-31e0-4343-ac65-f0348b18d54d",
   "metadata": {},
   "outputs": [],
   "source": [
    "iris = load_iris()\n",
    "x = iris.data\n",
    "y = iris.target\n",
    "target_names = iris.target_names"
   ]
  },
  {
   "cell_type": "code",
   "execution_count": 3,
   "id": "1ec08aae-f8e0-40fd-ab29-55fa7c79ebc6",
   "metadata": {},
   "outputs": [],
   "source": [
    "x_train,x_test,y_train,y_test = train_test_split(x,y,test_size=0.2,random_state=42)"
   ]
  },
  {
   "cell_type": "code",
   "execution_count": 12,
   "id": "eb77e3c8-1160-41d2-9f63-586a35e7ddba",
   "metadata": {},
   "outputs": [],
   "source": [
    "KNN = KNeighborsClassifier(n_neighbors=3)\n",
    "KNN.fit(x_train,y_train)\n",
    "y_pred = KNN.predict(x_test)"
   ]
  },
  {
   "cell_type": "code",
   "execution_count": 15,
   "id": "b0ad9177-4343-4a13-ade4-40565b1fbded",
   "metadata": {},
   "outputs": [
    {
     "name": "stdout",
     "output_type": "stream",
     "text": [
      "correctprediction: versicolor (True) - versicolor (predicted)\n",
      "correctprediction: setosa (True) - setosa (predicted)\n",
      "correctprediction: virginica (True) - virginica (predicted)\n",
      "correctprediction: versicolor (True) - versicolor (predicted)\n",
      "correctprediction: versicolor (True) - versicolor (predicted)\n",
      "correctprediction: setosa (True) - setosa (predicted)\n",
      "correctprediction: versicolor (True) - versicolor (predicted)\n",
      "correctprediction: virginica (True) - virginica (predicted)\n",
      "correctprediction: versicolor (True) - versicolor (predicted)\n",
      "correctprediction: versicolor (True) - versicolor (predicted)\n",
      "correctprediction: virginica (True) - virginica (predicted)\n",
      "correctprediction: setosa (True) - setosa (predicted)\n",
      "correctprediction: setosa (True) - setosa (predicted)\n",
      "correctprediction: setosa (True) - setosa (predicted)\n",
      "correctprediction: setosa (True) - setosa (predicted)\n",
      "correctprediction: versicolor (True) - versicolor (predicted)\n",
      "correctprediction: virginica (True) - virginica (predicted)\n",
      "correctprediction: versicolor (True) - versicolor (predicted)\n",
      "correctprediction: versicolor (True) - versicolor (predicted)\n",
      "correctprediction: virginica (True) - virginica (predicted)\n",
      "correctprediction: setosa (True) - setosa (predicted)\n",
      "correctprediction: virginica (True) - virginica (predicted)\n",
      "correctprediction: setosa (True) - setosa (predicted)\n",
      "correctprediction: virginica (True) - virginica (predicted)\n",
      "correctprediction: virginica (True) - virginica (predicted)\n",
      "correctprediction: virginica (True) - virginica (predicted)\n",
      "correctprediction: virginica (True) - virginica (predicted)\n",
      "correctprediction: virginica (True) - virginica (predicted)\n",
      "correctprediction: setosa (True) - setosa (predicted)\n",
      "correctprediction: setosa (True) - setosa (predicted)\n",
      "\n",
      "Number of correct predictions: 30\n",
      "Number of wrong predictions: 0\n"
     ]
    }
   ],
   "source": [
    "correct_predictions = 0\n",
    "wrong_predictions = 0\n",
    "\n",
    "for i in range(len(y_test)):\n",
    "    if y_test[i] == y_pred[i]:\n",
    "        correct_predictions += 1\n",
    "        print(f\"correctprediction: {target_names[y_test[i]]} (True) - {target_names[y_pred[i]]} (predicted)\")\n",
    "    else:\n",
    "        wrong_predictions += 1\n",
    "        print(f\"wrongprediction: {target_names[y_test[i]]} (True) - {target_names[y_pred[i]]} (predicted)\")\n",
    "\n",
    "print(f\"\\nNumber of correct predictions: {correct_predictions}\")\n",
    "print(f\"Number of wrong predictions: {wrong_predictions}\")\n"
   ]
  },
  {
   "cell_type": "code",
   "execution_count": 17,
   "id": "56e7060d-27aa-433c-a3fb-93c4cd56c518",
   "metadata": {},
   "outputs": [
    {
     "name": "stdout",
     "output_type": "stream",
     "text": [
      "\n",
      " Accuracy:100.00%\n"
     ]
    }
   ],
   "source": [
    "accuracy = accuracy_score(y_test,y_pred)\n",
    "print(f\"\\n Accuracy:{accuracy*100:.2f}%\")"
   ]
  },
  {
   "cell_type": "code",
   "execution_count": null,
   "id": "a09fb2be-2a96-4589-851a-6d7717886d31",
   "metadata": {},
   "outputs": [],
   "source": []
  }
 ],
 "metadata": {
  "kernelspec": {
   "display_name": "Python 3 (ipykernel)",
   "language": "python",
   "name": "python3"
  },
  "language_info": {
   "codemirror_mode": {
    "name": "ipython",
    "version": 3
   },
   "file_extension": ".py",
   "mimetype": "text/x-python",
   "name": "python",
   "nbconvert_exporter": "python",
   "pygments_lexer": "ipython3",
   "version": "3.11.7"
  }
 },
 "nbformat": 4,
 "nbformat_minor": 5
}
